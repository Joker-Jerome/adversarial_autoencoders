{
 "cells": [
  {
   "cell_type": "code",
   "execution_count": null,
   "metadata": {
    "collapsed": true
   },
   "outputs": [],
   "source": [
    "import numpy as np\n",
    "import sys\n",
    "import os\n",
    "import argparse"
   ]
  },
  {
   "cell_type": "code",
   "execution_count": null,
   "metadata": {
    "collapsed": true
   },
   "outputs": [],
   "source": []
  },
  {
   "cell_type": "code",
   "execution_count": null,
   "metadata": {
    "collapsed": true
   },
   "outputs": [],
   "source": [
    "'''\n",
    "matrix transformation -- \n",
    "\n",
    "\n",
    "It defines classes_and_methods\n",
    "\n",
    "@author:     Jerome\n",
    "\n",
    "@copyright:  2018 All rights reserved.\n",
    "\n",
    "@license:    license\n",
    "\n",
    "@contact:    email\n",
    "@deffield    \n",
    "'''\n",
    "import readline\n",
    "import sys\n",
    "import os\n",
    "import numpy as np\n",
    "import pandas as pd\n",
    "from sys import argv\n",
    "\n",
    "\n",
    "def run():\n",
    "    # argument reading\n",
    "    # index of starting task\n",
    "\n",
    "    # ped file\n",
    "    ped_file = args.ped_file\n",
    "    #ped_file = \"/ysm-gpfs/home/zy92/project/adversarial_autoencoders/ukb_data/UK_mini_v1.ped\"\n",
    "    \n",
    "    # map file\n",
    "    map_file = args.map_file\n",
    "    #map_file = \"/ysm-gpfs/home/zy92/project/adversarial_autoencoders/ukb_data/plink.frq\"\n",
    "    \n",
    "    \n",
    "    # output file \n",
    "    output_file = args.output_file\n",
    "    #output_file = \"/ysm-gpfs/home/zy92/project/adversarial_autoencoders/ukb_data/output_matrix.txt\"\n",
    "    \n",
    "    # read table\n",
    "    #df_ped = pd.read_table(ped_file, sep='\\s+', header = None)\n",
    "    \n",
    "    \n",
    "    # read the mapfile\n",
    "    # map_dict = {}\n",
    "    df_map = pd.read_table(map_file, sep='\\s+', header = 0, low_memory = False)\n",
    "    ref_series = df_map['A1']\n",
    "    # open the outputfile\n",
    "    fo = open(output_file, \"w\")\n",
    "        \n",
    "        \n",
    "    # read the pedfile\n",
    "    ct = 0\n",
    "    with open(ped_file, \"r\") as fi_ped:\n",
    "        for line in fi_ped:\n",
    "            ct += 1\n",
    "            print(\"INFO: line\" + str(ct))\n",
    "            tmp_line = line.strip().split()\n",
    "            tmp_vec = []\n",
    "            # number of snps\n",
    "            n = int((len(tmp_line) - 6)/2)\n",
    "            snp_vec = dict(zip(range(2*n), tmp_line[6:]))\n",
    "            for j in range(n):\n",
    "                pivot = 6 + 2*j\n",
    "                #tmp_snp = [tmp_line[pivot], tmp_line[pivot + 1]]\n",
    "                # snp == A1 => 1\n",
    "                ref_snp = ref_series[j]\n",
    "                #tmp_snp_t = [int(tmp_snp[0] == ref_snp), int(tmp_snp[1] == ref_snp)] \n",
    "                tmp_snp_v = str(int(snp_vec[pivot] == ref_snp) + int(snp_vec[pivot + 1] == ref_snp)) \n",
    "                #tmp_snp_v = str(0)\n",
    "                #tmp_vec.append(str(sum(tmp_snp_t)))\n",
    "                tmp_vec.append(tmp_snp_v)\n",
    "            output_vec = tmp_line[:6] + tmp_vec\n",
    "            # write to the output\n",
    "            fo.write(\"\\t\".join(output_vec) + \"\\n\")\n",
    "    \n",
    "    fo.close() \n",
    "    print(\"INFO: transform complete!\" )\n",
    "    \n",
    "\n",
    "if __name__ == \"__main__\":\n",
    "    import argparse\n",
    "    parser = argparse.ArgumentParser(description='Matrix Transformation')\n",
    "\n",
    "    parser.add_argument(\"--verbosity\",\n",
    "                        help=\"Log verbosity level. 1 is everything being logged. 10 is only high level messages, above 10 will hardly log anything\",\n",
    "                        default = \"10\")\n",
    "\n",
    "    parser.add_argument(\"-p\",\n",
    "                        \"--ped_file\",\n",
    "                        help=\"path to .ped file\",\n",
    "                        default=\"./ukb_data/UK_mini_v1.ped\")\n",
    "\n",
    "    parser.add_argument(\"-m\",\n",
    "                        \"--map_file\",\n",
    "                        help=\"path to .map file\",\n",
    "                        default=\"./ukb_data/UK.map\")\n",
    "    \n",
    "    parser.add_argument(\"-o\",\n",
    "                        \"--output_file\",\n",
    "                        help=\"path to output file\",\n",
    "                        default=\"./output_matrix.txt\")\n",
    "\n",
    "   \n",
    "\n",
    "    args = parser.parse_args()\n",
    "    \n",
    "    # run the main function\n",
    "    run()"
   ]
  },
  {
   "cell_type": "code",
   "execution_count": 1,
   "metadata": {
    "collapsed": true
   },
   "outputs": [],
   "source": [
    "a = 10"
   ]
  },
  {
   "cell_type": "code",
   "execution_count": 3,
   "metadata": {
    "collapsed": true
   },
   "outputs": [],
   "source": [
    "%quickref"
   ]
  },
  {
   "cell_type": "code",
   "execution_count": 6,
   "metadata": {},
   "outputs": [
    {
     "name": "stdout",
     "output_type": "stream",
     "text": [
      "Object `pd.read_table` not found.\n"
     ]
    }
   ],
   "source": [
    "for i in range(100000):\n",
    "    a = ref_series[i]"
   ]
  }
 ],
 "metadata": {
  "kernelspec": {
   "display_name": "Python 3",
   "language": "python",
   "name": "python3"
  },
  "language_info": {
   "codemirror_mode": {
    "name": "ipython",
    "version": 3
   },
   "file_extension": ".py",
   "mimetype": "text/x-python",
   "name": "python",
   "nbconvert_exporter": "python",
   "pygments_lexer": "ipython3",
   "version": "3.6.3"
  }
 },
 "nbformat": 4,
 "nbformat_minor": 2
}
